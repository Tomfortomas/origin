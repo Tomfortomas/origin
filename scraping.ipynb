{
 "cells": [
  {
   "cell_type": "code",
   "execution_count": 1,
   "metadata": {},
   "outputs": [
    {
     "name": "stdout",
     "output_type": "stream",
     "text": [
      "200\n"
     ]
    },
    {
     "data": {
      "text/plain": [
       "'\\n时次\\n瞬时温度\\n地面气压\\n相对湿度\\n瞬时风向\\n瞬时风速\\n1小时极大风速\\n1小时降水\\n10分钟平均能见度\\n'"
      ]
     },
     "execution_count": 1,
     "metadata": {},
     "output_type": "execute_result"
    }
   ],
   "source": [
    "import requests\n",
    "from bs4 import BeautifulSoup\n",
    "url = 'https://q-weather.info/weather/50953/history/?date=2023-5-01'\n",
    "res = requests.get(url)\n",
    "print(res.status_code)\n",
    "soup = BeautifulSoup(res.text,'html.parser')\n",
    "table = soup.table\n",
    "columns = table.tr\n",
    "columns.text"
   ]
  },
  {
   "cell_type": "code",
   "execution_count": 7,
   "metadata": {},
   "outputs": [
    {
     "data": {
      "text/plain": [
       "<bound method NDFrame.head of                         时次  瞬时温度   地面气压  相对湿度     瞬时风向  瞬时风速  1小时极大风速  1小时降水   \n",
       "0   2023-05-01 01:00 +0800   5.6  993.1    77    270/W   3.6      5.1    0.0  \\\n",
       "1   2023-05-01 02:00 +0800   5.2  993.6    79    262/W   4.3      5.4    0.0   \n",
       "2   2023-05-01 03:00 +0800   4.7  994.0    82  287/WNW   3.7      4.8    0.0   \n",
       "3   2023-05-01 04:00 +0800   4.3  994.4    84    278/W   3.8      4.9    0.0   \n",
       "4   2023-05-01 05:00 +0800   3.9  995.2    88  256/WSW   3.1      4.5    0.0   \n",
       "5   2023-05-01 06:00 +0800   5.7  996.1    80    264/W   4.6      4.7    0.0   \n",
       "6   2023-05-01 07:00 +0800   8.4  996.8    69    278/W   3.8      6.1    0.0   \n",
       "7   2023-05-01 08:00 +0800  10.7  997.4    64    262/W   3.6      4.7    0.0   \n",
       "8   2023-05-01 09:00 +0800  13.0  997.8    59   219/SW   4.8      5.0    0.0   \n",
       "9   2023-05-01 10:00 +0800  15.2  997.9    48  239/WSW   4.1      6.3    0.0   \n",
       "10  2023-05-01 11:00 +0800  16.2  997.7    40   231/SW   3.0      6.7    0.0   \n",
       "11  2023-05-01 12:00 +0800  16.5  997.6    40   309/NW   2.6      7.8    0.0   \n",
       "12  2023-05-01 13:00 +0800  17.6  997.6    38    264/W   4.6      7.9    0.0   \n",
       "13  2023-05-01 14:00 +0800  17.3  997.4    37   222/SW   6.4      9.9    0.0   \n",
       "14  2023-05-01 15:00 +0800  17.4  997.0    36  250/WSW   3.8      9.5    0.0   \n",
       "15  2023-05-01 16:00 +0800  18.0  996.4    32   228/SW   8.8      8.8    0.0   \n",
       "16  2023-05-01 17:00 +0800  17.7  996.8    31   233/SW   6.6     10.2    0.0   \n",
       "17  2023-05-01 18:00 +0800  17.1  996.9    34   222/SW   1.2      7.5    0.0   \n",
       "18  2023-05-01 19:00 +0800  14.5  997.3    39  197/SSW   1.7      4.5    0.0   \n",
       "19  2023-05-01 20:00 +0800  14.9  998.2    33  200/SSW   3.4      5.7    0.0   \n",
       "20  2023-05-01 21:00 +0800  14.6  998.1    33  203/SSW   5.5      7.4    0.0   \n",
       "21  2023-05-01 22:00 +0800  14.3  998.1    33   214/SW   4.3      6.6    0.0   \n",
       "22  2023-05-01 23:00 +0800  13.7  997.9    36  197/SSW   4.1      5.8    0.0   \n",
       "23  2023-05-02 00:00 +0800  11.2  997.5    46    172/S   2.0      4.0    0.0   \n",
       "\n",
       "    10分钟平均能见度  \n",
       "0        30.0  \n",
       "1        30.0  \n",
       "2        28.4  \n",
       "3        30.0  \n",
       "4        27.2  \n",
       "5        28.0  \n",
       "6        25.7  \n",
       "7        29.8  \n",
       "8        27.8  \n",
       "9        30.0  \n",
       "10       30.0  \n",
       "11       30.0  \n",
       "12       30.0  \n",
       "13       30.0  \n",
       "14       30.0  \n",
       "15       30.0  \n",
       "16       30.0  \n",
       "17       30.0  \n",
       "18       30.0  \n",
       "19       30.0  \n",
       "20       30.0  \n",
       "21       30.0  \n",
       "22       30.0  \n",
       "23       30.0  >"
      ]
     },
     "execution_count": 7,
     "metadata": {},
     "output_type": "execute_result"
    }
   ],
   "source": [
    "import pandas as pd\n",
    "\n",
    "df = pd.read_html('https://q-weather.info/weather/50953/history/?date=2023-5-01')[0]\n",
    "df.head"
   ]
  },
  {
   "cell_type": "code",
   "execution_count": 18,
   "metadata": {},
   "outputs": [
    {
     "name": "stdout",
     "output_type": "stream",
     "text": [
      "200\n"
     ]
    },
    {
     "data": {
      "text/plain": [
       "[<th>时次</th>,\n",
       " <th>瞬时温度</th>,\n",
       " <th>地面气压</th>,\n",
       " <th>相对湿度</th>,\n",
       " <th>瞬时风向</th>,\n",
       " <th>瞬时风速</th>,\n",
       " <th><small>1小时极大风速</small></th>,\n",
       " <th>1小时降水</th>,\n",
       " <th><small>10分钟平均能见度</small></th>]"
      ]
     },
     "execution_count": 18,
     "metadata": {},
     "output_type": "execute_result"
    }
   ],
   "source": [
    "import requests\n",
    "from bs4 import BeautifulSoup\n",
    "\n",
    "url = 'https://q-weather.info/weather/50953/history/?date=2023-5-01'\n",
    "res = requests.get(url)\n",
    "print(res.status_code)\n",
    "soup = BeautifulSoup(res.text,'html.parser')\n",
    "table = soup.table\n",
    "column = table.tr\n",
    "\n",
    "column.find_all('th')"
   ]
  },
  {
   "cell_type": "code",
   "execution_count": null,
   "metadata": {},
   "outputs": [],
   "source": []
  }
 ],
 "metadata": {
  "kernelspec": {
   "display_name": "Python 3",
   "language": "python",
   "name": "python3"
  },
  "language_info": {
   "codemirror_mode": {
    "name": "ipython",
    "version": 3
   },
   "file_extension": ".py",
   "mimetype": "text/x-python",
   "name": "python",
   "nbconvert_exporter": "python",
   "pygments_lexer": "ipython3",
   "version": "3.11.1"
  },
  "orig_nbformat": 4,
  "vscode": {
   "interpreter": {
    "hash": "e14f79856b719e3be49167351d871a492b5cfa7e9740200b25632fd5a4939358"
   }
  }
 },
 "nbformat": 4,
 "nbformat_minor": 2
}
